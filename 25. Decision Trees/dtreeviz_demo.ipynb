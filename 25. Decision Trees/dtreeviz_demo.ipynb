{
  "cells": [
    {
      "cell_type": "code",
      "execution_count": 9,
      "metadata": {
        "id": "B1nWeWjfIuTr"
      },
      "outputs": [
        {
          "name": "stdout",
          "output_type": "stream",
          "text": [
            "Requirement already satisfied: dtreeviz in c:\\users\\anshm\\anaconda3\\lib\\site-packages (2.2.2)\n",
            "Requirement already satisfied: graphviz>=0.9 in c:\\users\\anshm\\anaconda3\\lib\\site-packages (from dtreeviz) (0.21)\n",
            "Requirement already satisfied: pandas in c:\\users\\anshm\\anaconda3\\lib\\site-packages (from dtreeviz) (2.2.3)\n",
            "Requirement already satisfied: numpy in c:\\users\\anshm\\appdata\\roaming\\python\\python313\\site-packages (from dtreeviz) (2.3.2)\n",
            "Requirement already satisfied: scikit-learn in c:\\users\\anshm\\anaconda3\\lib\\site-packages (from dtreeviz) (1.6.1)\n",
            "Requirement already satisfied: matplotlib in c:\\users\\anshm\\anaconda3\\lib\\site-packages (from dtreeviz) (3.10.0)\n",
            "Requirement already satisfied: colour in c:\\users\\anshm\\anaconda3\\lib\\site-packages (from dtreeviz) (0.1.5)\n",
            "Requirement already satisfied: pytest in c:\\users\\anshm\\anaconda3\\lib\\site-packages (from dtreeviz) (8.3.4)\n",
            "Requirement already satisfied: contourpy>=1.0.1 in c:\\users\\anshm\\anaconda3\\lib\\site-packages (from matplotlib->dtreeviz) (1.3.1)\n",
            "Requirement already satisfied: cycler>=0.10 in c:\\users\\anshm\\anaconda3\\lib\\site-packages (from matplotlib->dtreeviz) (0.11.0)\n",
            "Requirement already satisfied: fonttools>=4.22.0 in c:\\users\\anshm\\anaconda3\\lib\\site-packages (from matplotlib->dtreeviz) (4.55.3)\n",
            "Requirement already satisfied: kiwisolver>=1.3.1 in c:\\users\\anshm\\anaconda3\\lib\\site-packages (from matplotlib->dtreeviz) (1.4.8)\n",
            "Requirement already satisfied: packaging>=20.0 in c:\\users\\anshm\\anaconda3\\lib\\site-packages (from matplotlib->dtreeviz) (24.2)\n",
            "Requirement already satisfied: pillow>=8 in c:\\users\\anshm\\anaconda3\\lib\\site-packages (from matplotlib->dtreeviz) (11.1.0)\n",
            "Requirement already satisfied: pyparsing>=2.3.1 in c:\\users\\anshm\\anaconda3\\lib\\site-packages (from matplotlib->dtreeviz) (3.2.0)\n",
            "Requirement already satisfied: python-dateutil>=2.7 in c:\\users\\anshm\\anaconda3\\lib\\site-packages (from matplotlib->dtreeviz) (2.9.0.post0)\n",
            "Requirement already satisfied: six>=1.5 in c:\\users\\anshm\\anaconda3\\lib\\site-packages (from python-dateutil>=2.7->matplotlib->dtreeviz) (1.17.0)\n",
            "Requirement already satisfied: pytz>=2020.1 in c:\\users\\anshm\\anaconda3\\lib\\site-packages (from pandas->dtreeviz) (2024.1)\n",
            "Requirement already satisfied: tzdata>=2022.7 in c:\\users\\anshm\\anaconda3\\lib\\site-packages (from pandas->dtreeviz) (2025.2)\n",
            "Requirement already satisfied: colorama in c:\\users\\anshm\\appdata\\roaming\\python\\python313\\site-packages (from pytest->dtreeviz) (0.4.6)\n",
            "Requirement already satisfied: iniconfig in c:\\users\\anshm\\anaconda3\\lib\\site-packages (from pytest->dtreeviz) (1.1.1)\n",
            "Requirement already satisfied: pluggy<2,>=1.5 in c:\\users\\anshm\\anaconda3\\lib\\site-packages (from pytest->dtreeviz) (1.5.0)\n",
            "Requirement already satisfied: scipy>=1.6.0 in c:\\users\\anshm\\appdata\\roaming\\python\\python313\\site-packages (from scikit-learn->dtreeviz) (1.16.1)\n",
            "Requirement already satisfied: joblib>=1.2.0 in c:\\users\\anshm\\anaconda3\\lib\\site-packages (from scikit-learn->dtreeviz) (1.4.2)\n",
            "Requirement already satisfied: threadpoolctl>=3.1.0 in c:\\users\\anshm\\anaconda3\\lib\\site-packages (from scikit-learn->dtreeviz) (3.5.0)\n"
          ]
        },
        {
          "name": "stderr",
          "output_type": "stream",
          "text": [
            "\n",
            "[notice] A new release of pip is available: 25.1.1 -> 25.2\n",
            "[notice] To update, run: python.exe -m pip install --upgrade pip\n"
          ]
        }
      ],
      "source": [
        "!pip install dtreeviz"
      ]
    },
    {
      "cell_type": "code",
      "execution_count": 10,
      "metadata": {
        "id": "eCy17YiQJUHN"
      },
      "outputs": [],
      "source": [
        "import graphviz.backend as be"
      ]
    },
    {
      "cell_type": "code",
      "execution_count": 16,
      "metadata": {
        "id": "UGbAgYRRKAHc"
      },
      "outputs": [],
      "source": [
        "from sklearn.datasets import *\n",
        "from dtreeviz.trees import *\n",
        "from dtreeviz import dtreeviz\n",
        "from IPython.display import Image, display_svg, SVG"
      ]
    },
    {
      "cell_type": "code",
      "execution_count": 17,
      "metadata": {
        "colab": {
          "base_uri": "https://localhost:8080/"
        },
        "id": "Z9HczOFHh2jy",
        "outputId": "67a3d275-20a8-49e7-bf94-2d5d013be3d5"
      },
      "outputs": [
        {
          "data": {
            "text/html": [
              "<style>#sk-container-id-3 {\n",
              "  /* Definition of color scheme common for light and dark mode */\n",
              "  --sklearn-color-text: #000;\n",
              "  --sklearn-color-text-muted: #666;\n",
              "  --sklearn-color-line: gray;\n",
              "  /* Definition of color scheme for unfitted estimators */\n",
              "  --sklearn-color-unfitted-level-0: #fff5e6;\n",
              "  --sklearn-color-unfitted-level-1: #f6e4d2;\n",
              "  --sklearn-color-unfitted-level-2: #ffe0b3;\n",
              "  --sklearn-color-unfitted-level-3: chocolate;\n",
              "  /* Definition of color scheme for fitted estimators */\n",
              "  --sklearn-color-fitted-level-0: #f0f8ff;\n",
              "  --sklearn-color-fitted-level-1: #d4ebff;\n",
              "  --sklearn-color-fitted-level-2: #b3dbfd;\n",
              "  --sklearn-color-fitted-level-3: cornflowerblue;\n",
              "\n",
              "  /* Specific color for light theme */\n",
              "  --sklearn-color-text-on-default-background: var(--sg-text-color, var(--theme-code-foreground, var(--jp-content-font-color1, black)));\n",
              "  --sklearn-color-background: var(--sg-background-color, var(--theme-background, var(--jp-layout-color0, white)));\n",
              "  --sklearn-color-border-box: var(--sg-text-color, var(--theme-code-foreground, var(--jp-content-font-color1, black)));\n",
              "  --sklearn-color-icon: #696969;\n",
              "\n",
              "  @media (prefers-color-scheme: dark) {\n",
              "    /* Redefinition of color scheme for dark theme */\n",
              "    --sklearn-color-text-on-default-background: var(--sg-text-color, var(--theme-code-foreground, var(--jp-content-font-color1, white)));\n",
              "    --sklearn-color-background: var(--sg-background-color, var(--theme-background, var(--jp-layout-color0, #111)));\n",
              "    --sklearn-color-border-box: var(--sg-text-color, var(--theme-code-foreground, var(--jp-content-font-color1, white)));\n",
              "    --sklearn-color-icon: #878787;\n",
              "  }\n",
              "}\n",
              "\n",
              "#sk-container-id-3 {\n",
              "  color: var(--sklearn-color-text);\n",
              "}\n",
              "\n",
              "#sk-container-id-3 pre {\n",
              "  padding: 0;\n",
              "}\n",
              "\n",
              "#sk-container-id-3 input.sk-hidden--visually {\n",
              "  border: 0;\n",
              "  clip: rect(1px 1px 1px 1px);\n",
              "  clip: rect(1px, 1px, 1px, 1px);\n",
              "  height: 1px;\n",
              "  margin: -1px;\n",
              "  overflow: hidden;\n",
              "  padding: 0;\n",
              "  position: absolute;\n",
              "  width: 1px;\n",
              "}\n",
              "\n",
              "#sk-container-id-3 div.sk-dashed-wrapped {\n",
              "  border: 1px dashed var(--sklearn-color-line);\n",
              "  margin: 0 0.4em 0.5em 0.4em;\n",
              "  box-sizing: border-box;\n",
              "  padding-bottom: 0.4em;\n",
              "  background-color: var(--sklearn-color-background);\n",
              "}\n",
              "\n",
              "#sk-container-id-3 div.sk-container {\n",
              "  /* jupyter's `normalize.less` sets `[hidden] { display: none; }`\n",
              "     but bootstrap.min.css set `[hidden] { display: none !important; }`\n",
              "     so we also need the `!important` here to be able to override the\n",
              "     default hidden behavior on the sphinx rendered scikit-learn.org.\n",
              "     See: https://github.com/scikit-learn/scikit-learn/issues/21755 */\n",
              "  display: inline-block !important;\n",
              "  position: relative;\n",
              "}\n",
              "\n",
              "#sk-container-id-3 div.sk-text-repr-fallback {\n",
              "  display: none;\n",
              "}\n",
              "\n",
              "div.sk-parallel-item,\n",
              "div.sk-serial,\n",
              "div.sk-item {\n",
              "  /* draw centered vertical line to link estimators */\n",
              "  background-image: linear-gradient(var(--sklearn-color-text-on-default-background), var(--sklearn-color-text-on-default-background));\n",
              "  background-size: 2px 100%;\n",
              "  background-repeat: no-repeat;\n",
              "  background-position: center center;\n",
              "}\n",
              "\n",
              "/* Parallel-specific style estimator block */\n",
              "\n",
              "#sk-container-id-3 div.sk-parallel-item::after {\n",
              "  content: \"\";\n",
              "  width: 100%;\n",
              "  border-bottom: 2px solid var(--sklearn-color-text-on-default-background);\n",
              "  flex-grow: 1;\n",
              "}\n",
              "\n",
              "#sk-container-id-3 div.sk-parallel {\n",
              "  display: flex;\n",
              "  align-items: stretch;\n",
              "  justify-content: center;\n",
              "  background-color: var(--sklearn-color-background);\n",
              "  position: relative;\n",
              "}\n",
              "\n",
              "#sk-container-id-3 div.sk-parallel-item {\n",
              "  display: flex;\n",
              "  flex-direction: column;\n",
              "}\n",
              "\n",
              "#sk-container-id-3 div.sk-parallel-item:first-child::after {\n",
              "  align-self: flex-end;\n",
              "  width: 50%;\n",
              "}\n",
              "\n",
              "#sk-container-id-3 div.sk-parallel-item:last-child::after {\n",
              "  align-self: flex-start;\n",
              "  width: 50%;\n",
              "}\n",
              "\n",
              "#sk-container-id-3 div.sk-parallel-item:only-child::after {\n",
              "  width: 0;\n",
              "}\n",
              "\n",
              "/* Serial-specific style estimator block */\n",
              "\n",
              "#sk-container-id-3 div.sk-serial {\n",
              "  display: flex;\n",
              "  flex-direction: column;\n",
              "  align-items: center;\n",
              "  background-color: var(--sklearn-color-background);\n",
              "  padding-right: 1em;\n",
              "  padding-left: 1em;\n",
              "}\n",
              "\n",
              "\n",
              "/* Toggleable style: style used for estimator/Pipeline/ColumnTransformer box that is\n",
              "clickable and can be expanded/collapsed.\n",
              "- Pipeline and ColumnTransformer use this feature and define the default style\n",
              "- Estimators will overwrite some part of the style using the `sk-estimator` class\n",
              "*/\n",
              "\n",
              "/* Pipeline and ColumnTransformer style (default) */\n",
              "\n",
              "#sk-container-id-3 div.sk-toggleable {\n",
              "  /* Default theme specific background. It is overwritten whether we have a\n",
              "  specific estimator or a Pipeline/ColumnTransformer */\n",
              "  background-color: var(--sklearn-color-background);\n",
              "}\n",
              "\n",
              "/* Toggleable label */\n",
              "#sk-container-id-3 label.sk-toggleable__label {\n",
              "  cursor: pointer;\n",
              "  display: flex;\n",
              "  width: 100%;\n",
              "  margin-bottom: 0;\n",
              "  padding: 0.5em;\n",
              "  box-sizing: border-box;\n",
              "  text-align: center;\n",
              "  align-items: start;\n",
              "  justify-content: space-between;\n",
              "  gap: 0.5em;\n",
              "}\n",
              "\n",
              "#sk-container-id-3 label.sk-toggleable__label .caption {\n",
              "  font-size: 0.6rem;\n",
              "  font-weight: lighter;\n",
              "  color: var(--sklearn-color-text-muted);\n",
              "}\n",
              "\n",
              "#sk-container-id-3 label.sk-toggleable__label-arrow:before {\n",
              "  /* Arrow on the left of the label */\n",
              "  content: \"▸\";\n",
              "  float: left;\n",
              "  margin-right: 0.25em;\n",
              "  color: var(--sklearn-color-icon);\n",
              "}\n",
              "\n",
              "#sk-container-id-3 label.sk-toggleable__label-arrow:hover:before {\n",
              "  color: var(--sklearn-color-text);\n",
              "}\n",
              "\n",
              "/* Toggleable content - dropdown */\n",
              "\n",
              "#sk-container-id-3 div.sk-toggleable__content {\n",
              "  max-height: 0;\n",
              "  max-width: 0;\n",
              "  overflow: hidden;\n",
              "  text-align: left;\n",
              "  /* unfitted */\n",
              "  background-color: var(--sklearn-color-unfitted-level-0);\n",
              "}\n",
              "\n",
              "#sk-container-id-3 div.sk-toggleable__content.fitted {\n",
              "  /* fitted */\n",
              "  background-color: var(--sklearn-color-fitted-level-0);\n",
              "}\n",
              "\n",
              "#sk-container-id-3 div.sk-toggleable__content pre {\n",
              "  margin: 0.2em;\n",
              "  border-radius: 0.25em;\n",
              "  color: var(--sklearn-color-text);\n",
              "  /* unfitted */\n",
              "  background-color: var(--sklearn-color-unfitted-level-0);\n",
              "}\n",
              "\n",
              "#sk-container-id-3 div.sk-toggleable__content.fitted pre {\n",
              "  /* unfitted */\n",
              "  background-color: var(--sklearn-color-fitted-level-0);\n",
              "}\n",
              "\n",
              "#sk-container-id-3 input.sk-toggleable__control:checked~div.sk-toggleable__content {\n",
              "  /* Expand drop-down */\n",
              "  max-height: 200px;\n",
              "  max-width: 100%;\n",
              "  overflow: auto;\n",
              "}\n",
              "\n",
              "#sk-container-id-3 input.sk-toggleable__control:checked~label.sk-toggleable__label-arrow:before {\n",
              "  content: \"▾\";\n",
              "}\n",
              "\n",
              "/* Pipeline/ColumnTransformer-specific style */\n",
              "\n",
              "#sk-container-id-3 div.sk-label input.sk-toggleable__control:checked~label.sk-toggleable__label {\n",
              "  color: var(--sklearn-color-text);\n",
              "  background-color: var(--sklearn-color-unfitted-level-2);\n",
              "}\n",
              "\n",
              "#sk-container-id-3 div.sk-label.fitted input.sk-toggleable__control:checked~label.sk-toggleable__label {\n",
              "  background-color: var(--sklearn-color-fitted-level-2);\n",
              "}\n",
              "\n",
              "/* Estimator-specific style */\n",
              "\n",
              "/* Colorize estimator box */\n",
              "#sk-container-id-3 div.sk-estimator input.sk-toggleable__control:checked~label.sk-toggleable__label {\n",
              "  /* unfitted */\n",
              "  background-color: var(--sklearn-color-unfitted-level-2);\n",
              "}\n",
              "\n",
              "#sk-container-id-3 div.sk-estimator.fitted input.sk-toggleable__control:checked~label.sk-toggleable__label {\n",
              "  /* fitted */\n",
              "  background-color: var(--sklearn-color-fitted-level-2);\n",
              "}\n",
              "\n",
              "#sk-container-id-3 div.sk-label label.sk-toggleable__label,\n",
              "#sk-container-id-3 div.sk-label label {\n",
              "  /* The background is the default theme color */\n",
              "  color: var(--sklearn-color-text-on-default-background);\n",
              "}\n",
              "\n",
              "/* On hover, darken the color of the background */\n",
              "#sk-container-id-3 div.sk-label:hover label.sk-toggleable__label {\n",
              "  color: var(--sklearn-color-text);\n",
              "  background-color: var(--sklearn-color-unfitted-level-2);\n",
              "}\n",
              "\n",
              "/* Label box, darken color on hover, fitted */\n",
              "#sk-container-id-3 div.sk-label.fitted:hover label.sk-toggleable__label.fitted {\n",
              "  color: var(--sklearn-color-text);\n",
              "  background-color: var(--sklearn-color-fitted-level-2);\n",
              "}\n",
              "\n",
              "/* Estimator label */\n",
              "\n",
              "#sk-container-id-3 div.sk-label label {\n",
              "  font-family: monospace;\n",
              "  font-weight: bold;\n",
              "  display: inline-block;\n",
              "  line-height: 1.2em;\n",
              "}\n",
              "\n",
              "#sk-container-id-3 div.sk-label-container {\n",
              "  text-align: center;\n",
              "}\n",
              "\n",
              "/* Estimator-specific */\n",
              "#sk-container-id-3 div.sk-estimator {\n",
              "  font-family: monospace;\n",
              "  border: 1px dotted var(--sklearn-color-border-box);\n",
              "  border-radius: 0.25em;\n",
              "  box-sizing: border-box;\n",
              "  margin-bottom: 0.5em;\n",
              "  /* unfitted */\n",
              "  background-color: var(--sklearn-color-unfitted-level-0);\n",
              "}\n",
              "\n",
              "#sk-container-id-3 div.sk-estimator.fitted {\n",
              "  /* fitted */\n",
              "  background-color: var(--sklearn-color-fitted-level-0);\n",
              "}\n",
              "\n",
              "/* on hover */\n",
              "#sk-container-id-3 div.sk-estimator:hover {\n",
              "  /* unfitted */\n",
              "  background-color: var(--sklearn-color-unfitted-level-2);\n",
              "}\n",
              "\n",
              "#sk-container-id-3 div.sk-estimator.fitted:hover {\n",
              "  /* fitted */\n",
              "  background-color: var(--sklearn-color-fitted-level-2);\n",
              "}\n",
              "\n",
              "/* Specification for estimator info (e.g. \"i\" and \"?\") */\n",
              "\n",
              "/* Common style for \"i\" and \"?\" */\n",
              "\n",
              ".sk-estimator-doc-link,\n",
              "a:link.sk-estimator-doc-link,\n",
              "a:visited.sk-estimator-doc-link {\n",
              "  float: right;\n",
              "  font-size: smaller;\n",
              "  line-height: 1em;\n",
              "  font-family: monospace;\n",
              "  background-color: var(--sklearn-color-background);\n",
              "  border-radius: 1em;\n",
              "  height: 1em;\n",
              "  width: 1em;\n",
              "  text-decoration: none !important;\n",
              "  margin-left: 0.5em;\n",
              "  text-align: center;\n",
              "  /* unfitted */\n",
              "  border: var(--sklearn-color-unfitted-level-1) 1pt solid;\n",
              "  color: var(--sklearn-color-unfitted-level-1);\n",
              "}\n",
              "\n",
              ".sk-estimator-doc-link.fitted,\n",
              "a:link.sk-estimator-doc-link.fitted,\n",
              "a:visited.sk-estimator-doc-link.fitted {\n",
              "  /* fitted */\n",
              "  border: var(--sklearn-color-fitted-level-1) 1pt solid;\n",
              "  color: var(--sklearn-color-fitted-level-1);\n",
              "}\n",
              "\n",
              "/* On hover */\n",
              "div.sk-estimator:hover .sk-estimator-doc-link:hover,\n",
              ".sk-estimator-doc-link:hover,\n",
              "div.sk-label-container:hover .sk-estimator-doc-link:hover,\n",
              ".sk-estimator-doc-link:hover {\n",
              "  /* unfitted */\n",
              "  background-color: var(--sklearn-color-unfitted-level-3);\n",
              "  color: var(--sklearn-color-background);\n",
              "  text-decoration: none;\n",
              "}\n",
              "\n",
              "div.sk-estimator.fitted:hover .sk-estimator-doc-link.fitted:hover,\n",
              ".sk-estimator-doc-link.fitted:hover,\n",
              "div.sk-label-container:hover .sk-estimator-doc-link.fitted:hover,\n",
              ".sk-estimator-doc-link.fitted:hover {\n",
              "  /* fitted */\n",
              "  background-color: var(--sklearn-color-fitted-level-3);\n",
              "  color: var(--sklearn-color-background);\n",
              "  text-decoration: none;\n",
              "}\n",
              "\n",
              "/* Span, style for the box shown on hovering the info icon */\n",
              ".sk-estimator-doc-link span {\n",
              "  display: none;\n",
              "  z-index: 9999;\n",
              "  position: relative;\n",
              "  font-weight: normal;\n",
              "  right: .2ex;\n",
              "  padding: .5ex;\n",
              "  margin: .5ex;\n",
              "  width: min-content;\n",
              "  min-width: 20ex;\n",
              "  max-width: 50ex;\n",
              "  color: var(--sklearn-color-text);\n",
              "  box-shadow: 2pt 2pt 4pt #999;\n",
              "  /* unfitted */\n",
              "  background: var(--sklearn-color-unfitted-level-0);\n",
              "  border: .5pt solid var(--sklearn-color-unfitted-level-3);\n",
              "}\n",
              "\n",
              ".sk-estimator-doc-link.fitted span {\n",
              "  /* fitted */\n",
              "  background: var(--sklearn-color-fitted-level-0);\n",
              "  border: var(--sklearn-color-fitted-level-3);\n",
              "}\n",
              "\n",
              ".sk-estimator-doc-link:hover span {\n",
              "  display: block;\n",
              "}\n",
              "\n",
              "/* \"?\"-specific style due to the `<a>` HTML tag */\n",
              "\n",
              "#sk-container-id-3 a.estimator_doc_link {\n",
              "  float: right;\n",
              "  font-size: 1rem;\n",
              "  line-height: 1em;\n",
              "  font-family: monospace;\n",
              "  background-color: var(--sklearn-color-background);\n",
              "  border-radius: 1rem;\n",
              "  height: 1rem;\n",
              "  width: 1rem;\n",
              "  text-decoration: none;\n",
              "  /* unfitted */\n",
              "  color: var(--sklearn-color-unfitted-level-1);\n",
              "  border: var(--sklearn-color-unfitted-level-1) 1pt solid;\n",
              "}\n",
              "\n",
              "#sk-container-id-3 a.estimator_doc_link.fitted {\n",
              "  /* fitted */\n",
              "  border: var(--sklearn-color-fitted-level-1) 1pt solid;\n",
              "  color: var(--sklearn-color-fitted-level-1);\n",
              "}\n",
              "\n",
              "/* On hover */\n",
              "#sk-container-id-3 a.estimator_doc_link:hover {\n",
              "  /* unfitted */\n",
              "  background-color: var(--sklearn-color-unfitted-level-3);\n",
              "  color: var(--sklearn-color-background);\n",
              "  text-decoration: none;\n",
              "}\n",
              "\n",
              "#sk-container-id-3 a.estimator_doc_link.fitted:hover {\n",
              "  /* fitted */\n",
              "  background-color: var(--sklearn-color-fitted-level-3);\n",
              "}\n",
              "</style><div id=\"sk-container-id-3\" class=\"sk-top-container\"><div class=\"sk-text-repr-fallback\"><pre>DecisionTreeClassifier()</pre><b>In a Jupyter environment, please rerun this cell to show the HTML representation or trust the notebook. <br />On GitHub, the HTML representation is unable to render, please try loading this page with nbviewer.org.</b></div><div class=\"sk-container\" hidden><div class=\"sk-item\"><div class=\"sk-estimator fitted sk-toggleable\"><input class=\"sk-toggleable__control sk-hidden--visually\" id=\"sk-estimator-id-3\" type=\"checkbox\" checked><label for=\"sk-estimator-id-3\" class=\"sk-toggleable__label fitted sk-toggleable__label-arrow\"><div><div>DecisionTreeClassifier</div></div><div><a class=\"sk-estimator-doc-link fitted\" rel=\"noreferrer\" target=\"_blank\" href=\"https://scikit-learn.org/1.6/modules/generated/sklearn.tree.DecisionTreeClassifier.html\">?<span>Documentation for DecisionTreeClassifier</span></a><span class=\"sk-estimator-doc-link fitted\">i<span>Fitted</span></span></div></label><div class=\"sk-toggleable__content fitted\"><pre>DecisionTreeClassifier()</pre></div> </div></div></div></div>"
            ],
            "text/plain": [
              "DecisionTreeClassifier()"
            ]
          },
          "execution_count": 17,
          "metadata": {},
          "output_type": "execute_result"
        }
      ],
      "source": [
        "clas = tree.DecisionTreeClassifier()  \n",
        "iris = load_iris()\n",
        "\n",
        "X_train = iris.data\n",
        "y_train = iris.target\n",
        "clas.fit(X_train, y_train)"
      ]
    },
    {
      "cell_type": "code",
      "execution_count": 18,
      "metadata": {
        "colab": {
          "base_uri": "https://localhost:8080/",
          "height": 335
        },
        "id": "zIDZD1vih4E5",
        "outputId": "20ca5dab-be9b-444b-d7e3-59efd2c18cdc"
      },
      "outputs": [
        {
          "data": {
            "text/plain": [
              "[Text(0.5, 0.9166666666666666, 'x[3] <= 0.8\\ngini = 0.667\\nsamples = 150\\nvalue = [50, 50, 50]'),\n",
              " Text(0.4230769230769231, 0.75, 'gini = 0.0\\nsamples = 50\\nvalue = [50, 0, 0]'),\n",
              " Text(0.46153846153846156, 0.8333333333333333, 'True  '),\n",
              " Text(0.5769230769230769, 0.75, 'x[3] <= 1.75\\ngini = 0.5\\nsamples = 100\\nvalue = [0, 50, 50]'),\n",
              " Text(0.5384615384615384, 0.8333333333333333, '  False'),\n",
              " Text(0.3076923076923077, 0.5833333333333334, 'x[2] <= 4.95\\ngini = 0.168\\nsamples = 54\\nvalue = [0, 49, 5]'),\n",
              " Text(0.15384615384615385, 0.4166666666666667, 'x[3] <= 1.65\\ngini = 0.041\\nsamples = 48\\nvalue = [0, 47, 1]'),\n",
              " Text(0.07692307692307693, 0.25, 'gini = 0.0\\nsamples = 47\\nvalue = [0, 47, 0]'),\n",
              " Text(0.23076923076923078, 0.25, 'gini = 0.0\\nsamples = 1\\nvalue = [0, 0, 1]'),\n",
              " Text(0.46153846153846156, 0.4166666666666667, 'x[3] <= 1.55\\ngini = 0.444\\nsamples = 6\\nvalue = [0, 2, 4]'),\n",
              " Text(0.38461538461538464, 0.25, 'gini = 0.0\\nsamples = 3\\nvalue = [0, 0, 3]'),\n",
              " Text(0.5384615384615384, 0.25, 'x[2] <= 5.45\\ngini = 0.444\\nsamples = 3\\nvalue = [0, 2, 1]'),\n",
              " Text(0.46153846153846156, 0.08333333333333333, 'gini = 0.0\\nsamples = 2\\nvalue = [0, 2, 0]'),\n",
              " Text(0.6153846153846154, 0.08333333333333333, 'gini = 0.0\\nsamples = 1\\nvalue = [0, 0, 1]'),\n",
              " Text(0.8461538461538461, 0.5833333333333334, 'x[2] <= 4.85\\ngini = 0.043\\nsamples = 46\\nvalue = [0, 1, 45]'),\n",
              " Text(0.7692307692307693, 0.4166666666666667, 'x[0] <= 5.95\\ngini = 0.444\\nsamples = 3\\nvalue = [0, 1, 2]'),\n",
              " Text(0.6923076923076923, 0.25, 'gini = 0.0\\nsamples = 1\\nvalue = [0, 1, 0]'),\n",
              " Text(0.8461538461538461, 0.25, 'gini = 0.0\\nsamples = 2\\nvalue = [0, 0, 2]'),\n",
              " Text(0.9230769230769231, 0.4166666666666667, 'gini = 0.0\\nsamples = 43\\nvalue = [0, 0, 43]')]"
            ]
          },
          "execution_count": 18,
          "metadata": {},
          "output_type": "execute_result"
        },
        {
          "data": {
            "image/png": "[encoded data removed]",
            "text/plain": [
              "<Figure size 640x480 with 1 Axes>"
            ]
          },
          "metadata": {},
          "output_type": "display_data"
        }
      ],
      "source": [
        "from sklearn.tree import plot_tree\n",
        "plot_tree(clas)"
      ]
    },
    {
      "cell_type": "markdown",
      "metadata": {
        "id": "EHpmNTX3Ur_1"
      },
      "source": [
        "# 1. Classification"
      ]
    },
    {
      "cell_type": "code",
      "execution_count": 19,
      "metadata": {
        "colab": {
          "base_uri": "https://localhost:8080/",
          "height": 606
        },
        "id": "gvR2Lk8zKCif",
        "outputId": "7467cd44-dcc3-4d19-9dab-1bf0cf17038a"
      },
      "outputs": [
        {
          "name": "stderr",
          "output_type": "stream",
          "text": [
            "C:\\Users\\anshm\\AppData\\Local\\Temp\\ipykernel_27248\\3904361549.py:1: DeprecationWarning: dtreeviz() function is deprecated starting from version 2.0. \n",
            " For the same functionality, please use this code instead: \n",
            " m = dtreeviz.model(...) \n",
            " m.view()\n"
          ]
        },
        {
          "ename": "TypeError",
          "evalue": "'int' object is not subscriptable",
          "output_type": "error",
          "traceback": [
            "\u001b[1;31m---------------------------------------------------------------------------\u001b[0m",
            "\u001b[1;31mTypeError\u001b[0m                                 Traceback (most recent call last)",
            "Cell \u001b[1;32mIn[19], line 1\u001b[0m\n\u001b[1;32m----> 1\u001b[0m viz \u001b[38;5;241m=\u001b[39m dtreeviz(clas, \n\u001b[0;32m      2\u001b[0m                X_train,\n\u001b[0;32m      3\u001b[0m                y_train,\n\u001b[0;32m      4\u001b[0m                feature_names\u001b[38;5;241m=\u001b[39miris\u001b[38;5;241m.\u001b[39mfeature_names, \n\u001b[0;32m      5\u001b[0m                class_names\u001b[38;5;241m=\u001b[39m[\u001b[38;5;124m\"\u001b[39m\u001b[38;5;124msetosa\u001b[39m\u001b[38;5;124m\"\u001b[39m, \u001b[38;5;124m\"\u001b[39m\u001b[38;5;124mversicolor\u001b[39m\u001b[38;5;124m\"\u001b[39m, \u001b[38;5;124m\"\u001b[39m\u001b[38;5;124mvirginica\u001b[39m\u001b[38;5;124m\"\u001b[39m])\n\u001b[0;32m      6\u001b[0m viz\n",
            "File \u001b[1;32mc:\\Users\\anshm\\anaconda3\\Lib\\site-packages\\dtreeviz\\compatibility.py:254\u001b[0m, in \u001b[0;36mdtreeviz\u001b[1;34m(tree_model, X_train, y_train, feature_names, target_name, class_names, tree_index, precision, orientation, instance_orientation, show_root_edge_labels, show_node_labels, show_just_path, fancy, histtype, highlight_path, X, max_X_features_LR, max_X_features_TD, depth_range_to_display, label_fontsize, ticks_fontsize, fontname, title, title_fontsize, colors, scale)\u001b[0m\n\u001b[0;32m    251\u001b[0m shadow_tree \u001b[38;5;241m=\u001b[39m ShadowDecTree\u001b[38;5;241m.\u001b[39mget_shadow_tree(tree_model, X_train, y_train, feature_names, target_name, class_names,\n\u001b[0;32m    252\u001b[0m                                             tree_index)\n\u001b[0;32m    253\u001b[0m model \u001b[38;5;241m=\u001b[39m DTreeVizAPI(shadow_tree)\n\u001b[1;32m--> 254\u001b[0m \u001b[38;5;28;01mreturn\u001b[39;00m model\u001b[38;5;241m.\u001b[39mview(precision, orientation,\n\u001b[0;32m    255\u001b[0m                   instance_orientation,\n\u001b[0;32m    256\u001b[0m                   show_root_edge_labels, show_node_labels, show_just_path, fancy, histtype, highlight_path, X,\n\u001b[0;32m    257\u001b[0m                   max_X_features_LR, max_X_features_TD, depth_range_to_display, label_fontsize, ticks_fontsize,\n\u001b[0;32m    258\u001b[0m                   fontname, title, title_fontsize, colors\u001b[38;5;241m=\u001b[39mcolors, scale\u001b[38;5;241m=\u001b[39mscale)\n",
            "File \u001b[1;32mc:\\Users\\anshm\\anaconda3\\Lib\\site-packages\\dtreeviz\\trees.py:523\u001b[0m, in \u001b[0;36mDTreeVizAPI.view\u001b[1;34m(self, precision, orientation, instance_orientation, show_root_edge_labels, show_node_labels, show_just_path, fancy, histtype, leaftype, highlight_path, x, max_X_features_LR, max_X_features_TD, depth_range_to_display, label_fontsize, ticks_fontsize, fontname, title, title_fontsize, colors, scale)\u001b[0m\n\u001b[0;32m    521\u001b[0m tmp \u001b[38;5;241m=\u001b[39m tempfile\u001b[38;5;241m.\u001b[39mgettempdir()\n\u001b[0;32m    522\u001b[0m \u001b[38;5;28;01mif\u001b[39;00m x \u001b[38;5;129;01mis\u001b[39;00m \u001b[38;5;129;01mnot\u001b[39;00m \u001b[38;5;28;01mNone\u001b[39;00m:\n\u001b[1;32m--> 523\u001b[0m     path \u001b[38;5;241m=\u001b[39m \u001b[38;5;28mself\u001b[39m\u001b[38;5;241m.\u001b[39mshadow_tree\u001b[38;5;241m.\u001b[39mpredict_path(x)\n\u001b[0;32m    524\u001b[0m     highlight_path \u001b[38;5;241m=\u001b[39m [n\u001b[38;5;241m.\u001b[39mid \u001b[38;5;28;01mfor\u001b[39;00m n \u001b[38;5;129;01min\u001b[39;00m path]\n\u001b[0;32m    526\u001b[0m color_values \u001b[38;5;241m=\u001b[39m colors[\u001b[38;5;124m'\u001b[39m\u001b[38;5;124mclasses\u001b[39m\u001b[38;5;124m'\u001b[39m][n_classes]\n",
            "File \u001b[1;32mc:\\Users\\anshm\\anaconda3\\Lib\\site-packages\\dtreeviz\\models\\shadow_decision_tree.py:340\u001b[0m, in \u001b[0;36mShadowDecTree.predict_path\u001b[1;34m(self, x)\u001b[0m\n\u001b[0;32m    337\u001b[0m     \u001b[38;5;28;01mreturn\u001b[39;00m walk(t\u001b[38;5;241m.\u001b[39mright, x, path)\n\u001b[0;32m    339\u001b[0m path \u001b[38;5;241m=\u001b[39m []\n\u001b[1;32m--> 340\u001b[0m walk(\u001b[38;5;28mself\u001b[39m\u001b[38;5;241m.\u001b[39mroot, x, path)\n\u001b[0;32m    341\u001b[0m \u001b[38;5;28;01mreturn\u001b[39;00m path\n",
            "File \u001b[1;32mc:\\Users\\anshm\\anaconda3\\Lib\\site-packages\\dtreeviz\\models\\shadow_decision_tree.py:335\u001b[0m, in \u001b[0;36mShadowDecTree.predict_path.<locals>.walk\u001b[1;34m(t, x, path)\u001b[0m\n\u001b[0;32m    333\u001b[0m \u001b[38;5;28;01mif\u001b[39;00m t\u001b[38;5;241m.\u001b[39misleaf():\n\u001b[0;32m    334\u001b[0m     \u001b[38;5;28;01mreturn\u001b[39;00m \u001b[38;5;28;01mNone\u001b[39;00m\n\u001b[1;32m--> 335\u001b[0m \u001b[38;5;28;01mif\u001b[39;00m \u001b[38;5;28mself\u001b[39m\u001b[38;5;241m.\u001b[39mshouldGoLeftAtSplit(t\u001b[38;5;241m.\u001b[39mid, x[t\u001b[38;5;241m.\u001b[39mfeature()]):\n\u001b[0;32m    336\u001b[0m     \u001b[38;5;28;01mreturn\u001b[39;00m walk(t\u001b[38;5;241m.\u001b[39mleft, x, path)\n\u001b[0;32m    337\u001b[0m \u001b[38;5;28;01mreturn\u001b[39;00m walk(t\u001b[38;5;241m.\u001b[39mright, x, path)\n",
            "\u001b[1;31mTypeError\u001b[0m: 'int' object is not subscriptable"
          ]
        }
      ],
      "source": [
        "\n",
        "\n",
        "viz = dtreeviz(clas, \n",
        "               X_train,\n",
        "               y_train,\n",
        "               feature_names=iris.feature_names, \n",
        "               class_names=[\"setosa\", \"versicolor\", \"virginica\"])\n",
        "viz\n"
      ]
    },
    {
      "cell_type": "markdown",
      "metadata": {
        "id": "A9yym4sdUx9u"
      },
      "source": [
        "# 2. Regression"
      ]
    },
    {
      "cell_type": "code",
      "execution_count": 20,
      "metadata": {
        "colab": {
          "base_uri": "https://localhost:8080/",
          "height": 375
        },
        "id": "lDfrTNpXKGAE",
        "outputId": "62de411c-4d5a-4db8-e76b-1008f5c7cf6c"
      },
      "outputs": [
        {
          "ename": "NameError",
          "evalue": "name 'load_boston' is not defined",
          "output_type": "error",
          "traceback": [
            "\u001b[1;31m---------------------------------------------------------------------------\u001b[0m",
            "\u001b[1;31mNameError\u001b[0m                                 Traceback (most recent call last)",
            "Cell \u001b[1;32mIn[20], line 2\u001b[0m\n\u001b[0;32m      1\u001b[0m regr \u001b[38;5;241m=\u001b[39m tree\u001b[38;5;241m.\u001b[39mDecisionTreeRegressor(max_depth\u001b[38;5;241m=\u001b[39m\u001b[38;5;241m1\u001b[39m)\n\u001b[1;32m----> 2\u001b[0m boston \u001b[38;5;241m=\u001b[39m load_boston()\n\u001b[0;32m      4\u001b[0m X_train \u001b[38;5;241m=\u001b[39m boston\u001b[38;5;241m.\u001b[39mdata\n\u001b[0;32m      5\u001b[0m y_train \u001b[38;5;241m=\u001b[39m boston\u001b[38;5;241m.\u001b[39mtarget\n",
            "\u001b[1;31mNameError\u001b[0m: name 'load_boston' is not defined"
          ]
        }
      ],
      "source": [
        "regr = tree.DecisionTreeRegressor(max_depth=1)\n",
        "boston = load_boston()\n",
        "\n",
        "X_train = boston.data\n",
        "y_train = boston.target\n",
        "regr.fit(X_train, y_train)\n",
        "\n",
        "viz = dtreeviz(regr,\n",
        "               X_train,\n",
        "               y_train,\n",
        "               target_name='price',\n",
        "               feature_names=boston.feature_names,\n",
        "               scale=2\n",
        "              )\n",
        "viz"
      ]
    },
    {
      "cell_type": "markdown",
      "metadata": {
        "id": "awfq_QLTU7R8"
      },
      "source": [
        "# 3. Horizontal Decision Tree"
      ]
    },
    {
      "cell_type": "code",
      "execution_count": 25,
      "metadata": {
        "colab": {
          "base_uri": "https://localhost:8080/",
          "height": 444
        },
        "id": "GdrTD9oHKsPR",
        "outputId": "3931f8cd-df38-4427-d0a9-089514f8a211"
      },
      "outputs": [],
      "source": [
        "viz = dtreeviz(clas, \n",
        "               X_train,\n",
        "               y_train,\n",
        "               target_name='price',\n",
        "               feature_names=iris.feature_names, \n",
        "               class_names=[\"setosa\", \"versicolor\", \"virginica\"], \n",
        "               scale = 1.5,\n",
        "               orientation='LR')\n",
        "viz"
      ]
    },
    {
      "cell_type": "markdown",
      "metadata": {
        "id": "qGq0SQdtVLvL"
      },
      "source": [
        "# 4. Show prediction path"
      ]
    },
    {
      "cell_type": "code",
      "execution_count": 57,
      "metadata": {
        "colab": {
          "base_uri": "https://localhost:8080/",
          "height": 638
        },
        "id": "f-fycCofLB4T",
        "outputId": "023668d4-c343-4b05-8c20-fffe8a87aecf"
      },
      "outputs": [],
      "source": [
        "clas = tree.DecisionTreeClassifier()  \n",
        "iris = load_iris()\n",
        "\n",
        "X_train = iris.data\n",
        "y_train = iris.target\n",
        "clas.fit(X_train, y_train)\n",
        "\n",
        "X = iris.data[np.random.randint(0, len(iris.data)),:]\n",
        "\n",
        "viz = dtreeviz(clas, \n",
        "               X_train,\n",
        "               y_train,\n",
        "               feature_names=iris.feature_names, \n",
        "               class_names=[\"setosa\", \"versicolor\", \"virginica\"], \n",
        "               X=X)\n",
        "viz"
      ]
    },
    {
      "cell_type": "code",
      "execution_count": 56,
      "metadata": {
        "colab": {
          "base_uri": "https://localhost:8080/"
        },
        "id": "FElZ8fQBl2Dx",
        "outputId": "4f701716-ba95-4dad-d59e-a9c23274acc3"
      },
      "outputs": [],
      "source": [
        "X"
      ]
    },
    {
      "cell_type": "markdown",
      "metadata": {
        "id": "l6hdJJcvVQLj"
      },
      "source": [
        "# 5. Show node number"
      ]
    },
    {
      "cell_type": "code",
      "execution_count": 58,
      "metadata": {
        "colab": {
          "base_uri": "https://localhost:8080/",
          "height": 774
        },
        "id": "YtEgarF_LKID",
        "outputId": "f9ed1554-0652-4dcc-e87c-5453f44cdbb1"
      },
      "outputs": [],
      "source": [
        "\n",
        "viz = dtreeviz(clas, \n",
        "               X_train,\n",
        "               y_train,\n",
        "               target_name='price',\n",
        "               feature_names=iris.feature_names, \n",
        "               class_names=[\"setosa\", \"versicolor\", \"virginica\"], \n",
        "               histtype= 'barstacked',\n",
        "               scale = 1.5,\n",
        "               orientation='LR',\n",
        "               show_node_labels=True)\n",
        "viz"
      ]
    },
    {
      "cell_type": "markdown",
      "metadata": {
        "id": "LsDb5dL5VXXN"
      },
      "source": [
        "# 6. Without Any graphs"
      ]
    },
    {
      "cell_type": "code",
      "execution_count": 35,
      "metadata": {
        "colab": {
          "base_uri": "https://localhost:8080/",
          "height": 310
        },
        "id": "g8Umu4XwLRLg",
        "outputId": "d6fb7f5e-1b88-4fc9-a3e5-9416b9daffea"
      },
      "outputs": [],
      "source": [
        "viz = dtreeviz(clas, \n",
        "               X_train,\n",
        "               y_train,\n",
        "               target_name='price',\n",
        "               feature_names=iris.feature_names, \n",
        "               class_names=[\"setosa\", \"versicolor\", \"virginica\"], \n",
        "               histtype= 'barstacked',\n",
        "               scale = 1.5,\n",
        "               orientation='LR',\n",
        "               fancy=False)\n",
        "viz"
      ]
    },
    {
      "cell_type": "markdown",
      "metadata": {
        "id": "b_IesOO6Ves0"
      },
      "source": [
        "# 7. Show just prediction path, nothing else"
      ]
    },
    {
      "cell_type": "code",
      "execution_count": 37,
      "metadata": {
        "colab": {
          "base_uri": "https://localhost:8080/",
          "height": 519
        },
        "id": "Tq4cfTzpQ6fD",
        "outputId": "d254a367-696a-433a-bc38-fd126309da86"
      },
      "outputs": [],
      "source": [
        "clas = tree.DecisionTreeClassifier()  \n",
        "iris = load_iris()\n",
        "\n",
        "X_train = iris.data\n",
        "y_train = iris.target\n",
        "clas.fit(X_train, y_train)\n",
        "\n",
        "X = iris.data[np.random.randint(0, len(iris.data)),:]\n",
        "\n",
        "viz = dtreeviz(clas, \n",
        "               X_train,\n",
        "               y_train,\n",
        "               target_name='price',\n",
        "               feature_names=iris.feature_names, \n",
        "               class_names=[\"setosa\", \"versicolor\", \"virginica\"], \n",
        "               X=X,\n",
        "               show_just_path=True)\n",
        "viz"
      ]
    },
    {
      "cell_type": "markdown",
      "metadata": {
        "id": "WllTI11NVnEt"
      },
      "source": [
        "# 8. Prediction Path in Plain english"
      ]
    },
    {
      "cell_type": "code",
      "execution_count": 59,
      "metadata": {
        "colab": {
          "base_uri": "https://localhost:8080/"
        },
        "id": "hMeQeVsAREzs",
        "outputId": "5e8f5d0f-715c-4454-d8bb-ffb5c7b22ab5"
      },
      "outputs": [],
      "source": [
        "print(explain_prediction_path(clas, X, feature_names=iris.feature_names, explanation_type=\"plain_english\"))"
      ]
    },
    {
      "cell_type": "markdown",
      "metadata": {
        "id": "02jIIqX5Vt0c"
      },
      "source": [
        "# 9. Feature Importance"
      ]
    },
    {
      "cell_type": "code",
      "execution_count": 60,
      "metadata": {
        "colab": {
          "base_uri": "https://localhost:8080/",
          "height": 355
        },
        "id": "2B6-VKxpRT_K",
        "outputId": "11b80b0f-ce7f-4659-d313-7a854509df10"
      },
      "outputs": [],
      "source": [
        "print(explain_prediction_path(clas, X, feature_names=iris.feature_names, explanation_type=\"sklearn_default\"))"
      ]
    },
    {
      "cell_type": "markdown",
      "metadata": {
        "id": "WTkh2o6bV2zm"
      },
      "source": [
        "# 10. Univariate Regression"
      ]
    },
    {
      "cell_type": "code",
      "execution_count": 20,
      "metadata": {
        "colab": {
          "base_uri": "https://localhost:8080/",
          "height": 326
        },
        "id": "BedXNaRMRgsU",
        "outputId": "29f4d96c-9e85-429c-c4c1-eb98fadd9fd7"
      },
      "outputs": [],
      "source": [
        "import pandas as pd\n",
        "import matplotlib.pyplot as plt\n",
        "from sklearn.tree import DecisionTreeRegressor\n",
        "from dtreeviz.trees import *\n",
        "\n",
        "df_cars = pd.read_csv(\"cars.csv\")\n",
        "X, y = df_cars[['WGT']], df_cars['MPG']\n",
        "\n",
        "dt = DecisionTreeRegressor(max_depth=3, criterion=\"mae\")\n",
        "dt.fit(X, y)\n",
        "\n",
        "fig = plt.figure()\n",
        "ax = fig.gca()\n",
        "rtreeviz_univar(dt, X, y, 'WGT', 'MPG', ax=ax)\n",
        "plt.show()"
      ]
    },
    {
      "cell_type": "markdown",
      "metadata": {
        "id": "7A-7zcvgV_JT"
      },
      "source": [
        "# 11. 3-D Regression "
      ]
    },
    {
      "cell_type": "code",
      "execution_count": 40,
      "metadata": {
        "colab": {
          "base_uri": "https://localhost:8080/",
          "height": 408
        },
        "id": "J35G9NKQSOpU",
        "outputId": "de9c71f9-2ed3-43fa-d324-49e7920caa37"
      },
      "outputs": [],
      "source": [
        "df_cars = pd.read_csv(\"cars.csv\")\n",
        "\n",
        "df_cars"
      ]
    },
    {
      "cell_type": "code",
      "execution_count": 41,
      "metadata": {
        "colab": {
          "base_uri": "https://localhost:8080/",
          "height": 303
        },
        "id": "n1u7N5KhcEvD",
        "outputId": "6e6938c1-07db-49c0-b4e7-940a920af83c"
      },
      "outputs": [],
      "source": [
        "from mpl_toolkits.mplot3d import Axes3D\n",
        "from sklearn.tree import DecisionTreeRegressor\n",
        "from dtreeviz.trees import *\n",
        "\n",
        "\n",
        "X = df_cars[['WGT','ENG']]\n",
        "y = df_cars['MPG']\n",
        "\n",
        "dt = DecisionTreeRegressor(max_depth=3, criterion=\"mae\")\n",
        "dt.fit(X, y)\n",
        "\n",
        "figsize = (6,5)\n",
        "fig = plt.figure(figsize=figsize)\n",
        "ax = fig.add_subplot(111, projection='3d')\n",
        "\n",
        "t = rtreeviz_bivar_3D(dt,\n",
        "                      X, y,\n",
        "                      feature_names=['Vehicle Weight', 'Horse Power'],\n",
        "                      target_name='MPG',\n",
        "                      fontsize=14,\n",
        "                      elev=20,\n",
        "                      azim=25,\n",
        "                      dist=8.2,\n",
        "                      show={'splits','title'},\n",
        "                      ax=ax)\n",
        "plt.show()"
      ]
    },
    {
      "cell_type": "code",
      "execution_count": null,
      "metadata": {
        "id": "Jn_eJkIUSVVz"
      },
      "outputs": [],
      "source": []
    }
  ],
  "metadata": {
    "colab": {
      "name": "dtreeviz-demo.ipynb",
      "provenance": []
    },
    "kernelspec": {
      "display_name": "base",
      "language": "python",
      "name": "python3"
    },
    "language_info": {
      "codemirror_mode": {
        "name": "ipython",
        "version": 3
      },
      "file_extension": ".py",
      "mimetype": "text/x-python",
      "name": "python",
      "nbconvert_exporter": "python",
      "pygments_lexer": "ipython3",
      "version": "3.13.5"
    }
  },
  "nbformat": 4,
  "nbformat_minor": 0
}
